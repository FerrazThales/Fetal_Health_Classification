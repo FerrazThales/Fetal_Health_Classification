{
  "nbformat": 4,
  "nbformat_minor": 0,
  "metadata": {
    "colab": {
      "name": "Fetal Health Classification with Pycaret",
      "provenance": [],
      "collapsed_sections": [],
      "include_colab_link": true
    },
    "kernelspec": {
      "name": "python3",
      "display_name": "Python 3"
    }
  },
  "cells": [
    {
      "cell_type": "markdown",
      "metadata": {
        "id": "view-in-github",
        "colab_type": "text"
      },
      "source": [
        "<a href=\"https://colab.research.google.com/github/FerrazThales/Fetal_Health_Classification/blob/main/Fetal_Health_Classification_with_Pycaret.ipynb\" target=\"_parent\"><img src=\"https://colab.research.google.com/assets/colab-badge.svg\" alt=\"Open In Colab\"/></a>"
      ]
    },
    {
      "cell_type": "markdown",
      "metadata": {
        "id": "5Uz7Rzxqzz1X"
      },
      "source": [
        "<h1 align=\"center\"><b>Encontre eu e meus projetos nas redes sociais!</b></h1>\n",
        "<a href=\"https://thalesferraz.medium.com/\">\n",
        "<img width=\"32%\" align=\"left\" src=\"https://github.com/FerrazThales/FerrazThales/blob/main/logo_gif.gif?raw=true\" title=\"Olá, Meu nome é Thales e sou cientista de Dados!\">\n",
        "</a>\n",
        "<a href=\"https://github.com/FerrazThales\">\n",
        "<img hspace=10 vspace=90 width=\"12%\" align=\"left\" src=\"https://image.flaticon.com/icons/png/512/1051/1051326.png\" title=\"Entre em meu Github e veja mais projetos!\">\n",
        "</a>\n",
        "<a href=\"\">\n",
        "<img hspace=10 vspace=70 width=\"26%\" align=\"left\" src=\"https://download.logo.wine/logo/Medium_(website)/Medium_(website)-Logo.wine.png\" title=\"Veja este meu projeto no Medium!\">\n",
        "</a>\n",
        "<a href=\"https://www.linkedin.com/in/thalesdefreitasferraz/\">\n",
        "<img vspace=110 align=\"left\" src=\"https://image.flaticon.com/icons/png/512/889/889122.png\" title=\"Vamos trocar uma idéia sobre Data Science no LinkedIn?\" width=\"8%\">\n",
        "</a>"
      ]
    },
    {
      "cell_type": "markdown",
      "metadata": {
        "id": "dW4pCX8E_DPR"
      },
      "source": [
        "# O que você vai aprender nesta análise:\n",
        "\n",
        "* Cuidados na **Gravidez**, o que é **Cardiotocografia** e **Saúde Fetal**.\n",
        "* Algoritmos de **classificação supervisionado** e *variáveis* **alvo**.\n",
        "* Como usar o **Pycaret**, uma ferramenta de *Auto Machine Learning*.\n"
      ]
    },
    {
      "cell_type": "markdown",
      "metadata": {
        "id": "79EasT49_Yv9"
      },
      "source": [
        "#A saúde e o bem-estar dos bebês antes do nascimento.\n",
        "\n",
        "O terceiro **Objetivo de Desenvolvimento Sustentável** da Agenda de 2030 da [ONU](https://brasil.un.org/pt-br/sdgs/3) prevê \"*Assegurar uma vida saudável e promover o bem-estar para todas e todos, em todas as idades*\". Naturalmente, este objetivo deve incluir os bebês que ainda estão em gestação. No entanto, o Brasil [até hoje não possui](https://www.scielosp.org/article/csp/2021.v37n7/e00265920/) um método ideal para definir quais óbitos fetais poderiam ter sido evitados com uma maior atuação do [Sistema Único de Saúde(SUS)](https://pt.wikipedia.org/wiki/Sistema_%C3%9Anico_de_Sa%C3%BAde) durante a gravidez de suas pacientes.\n",
        "\n",
        "Ao longo da **gestação** de uma criança são necessários inúmeros [cuidados](https://semprebem.paguemenos.com.br/posts/saude/cuidados-na-gravidez) alimentares, suplementação vitamínica e realização de exames com **acompanhamento** médico adequado. Desta forma, é possível garantir a saúde da **gestante** e do **bebê**, até mesmo evitando **malformações** ou problemas que resultariam em *aborto*.\n",
        "\n",
        "<p align=\"center\">\n",
        "<img src=\"https://image.freepik.com/vetores-gratis/ilustracao-detalhada-do-dia-internacional-de-la-obstetricia-y-la-embarazada_23-2149008395.jpg\" width=\"50%\">\n",
        "</p>\n",
        "\n",
        "Uma maneira de **avaliar** a vitalidade e saúde do feto no final da gravidez é através da [Cardiotocografia](https://www.tuasaude.com/cardiotocografia-fetal/). Com esta *avaliação* em mãos é possível o médico **intervir** de forma imediata caso o feto esteja apresentando algum tipo de **alteração** em seu *desenvolvimento* ou saúde. Se por ventura, ele esteja apresentando estes problemas se pode dizer que está em um quadro de [sofrimento fetal](https://www.tuasaude.com/sofrimento-fetal/).\n",
        "\n",
        "O **sofrimento fetal** é uma situação em que o bebê não recebe a quantidade **suficiente** de *oxigênio* no útero durante a gestação ou parto, o que pode interferir **diretamente** no seu crescimento e desenvolvimento. \n",
        "\n",
        "Portanto, realizar a **cardiocotografia** é extremamente *necessário*, uma vez que este [exame](https://www.hospital22deoutubro.com.br/p/setores/maternidade/cardiotocografia) é **simples** e *não invasivo*. Ele é feito com a grávida sentada ou deitada, em **repouso** e dura cerca de 20 **minutos**. Sua aplicação consiste na colocação de dois cintos elásticos com **sensores** na barriga: um para captar os batimentos *cardíacos* do **bebê** e outro para captar a frequência e a intensidade das contrações **uterinas**. No caso de gravidez **múltipla**, haverá um sensor especial para cada coração.\n",
        "\n",
        "O **objetivo** deste projeto é desenvolver um **modelo** de machine learning para *classificar* o estado de saúde de **fetos** em uma maternidade considerando os *resultados* obtidos pelos exames de **cardiocotografia**. Este algoritmo poderia ser utilizado como **auxílio** a médicos do *SUS* para uma melhor tomada de **decisão** quanto a saúde das gestantes e de seus bebês."
      ]
    },
    {
      "cell_type": "markdown",
      "metadata": {
        "id": "GX3oz15y_eKE"
      },
      "source": [
        "#Obtenção dos dados\n",
        "\n",
        "Neste projeto serão utilizados dados públicos disponibilizados no Kaggle: [Fetal Health Classification](https://www.kaggle.com/andrewmvd/fetal-health-classification). Estas informações são baseadas em um [trabalho acadêmico](https://onlinelibrary.wiley.com/doi/10.1002/1520-6661(200009/10)9:5%3C311::AID-MFM12%3E3.0.CO;2-9) que reuniu mais de 2 mil *resultados* de exames de **Cadiocotografia** em que foram classificadas a saúde de cada feto por **três** *especialistas* em [obstetrícia](https://www.rededorsaoluiz.com.br/especialidades/obstetricia). A classificação dada para a saúde de cada feto está dentro das seguintes classes: \n",
        "* *Normal*,  assinalado como 1.\n",
        "* *Suspeito*, assinalado como 2.\n",
        "* *Patológico*, assinalado como 3.\n",
        "\n",
        "As *variáveis* do dataset disponibilizado **não** possuem descrições detalhadas de seu **significado**. Portanto, realizaram-se pesquisas na internet para entender a **possível** interpretação de cada *feature* e sua aplicação dentro do **contexto** da análise.\n",
        "\n",
        "*Este projeto está baseado nos seguinte trabalhos acadêmicos:* \n",
        "* Ayres de Campos et al. (2000) SisPorto 2.0 A Program for Automated Analysis of Cardiotocograms. J Matern Fetal Med 5:311-318 [link](https://onlinelibrary.wiley.com/doi/10.1002/1520-6661(200009/10)9:5%3C311::AID-MFM12%3E3.0.CO;2-9)\n",
        "* Oliveira CA, Sá RA. Cardiotocografia anteparto. São Paulo: Federação Brasileira das Associações de \n",
        "Ginecologia e Obstetrícia (FEBRASGO); 2018. (Protocolo FEBRASGO - Obstetrícia, no. 81/Comissão \n",
        "Nacional Especializada em Medicina Fetal). [link](https://sogirgs.org.br/area-do-associado/cardiotocografia-anteparto.pdf)\n",
        "\n",
        "<h2>Dicionário das variáveis:</h2>\n",
        "\n",
        "*baseado em:* [Use of Machine Learning Algorithms for Prediction of Fetal Risk using Cardiotocographic Data](https://www.ncbi.nlm.nih.gov/pmc/articles/PMC6822315/).\n",
        "\n",
        "* `baseline value`: Linha de Base da [Frequência Cardíaca Fetal - FCF](https://www.fetalmed.net/qual-e-frequencia-cardiaca-normal-feto/).\n",
        "* `accelerations`: número de acelerações da FCF por segundo.\n",
        "* `fetal_movement`: número de movimentos do feto por segundo.\n",
        "* `uterine_contractions`: número de contrações uterinas por segundo.\n",
        "* `light_decelerations`: número de desacelerações leves da FCF por segundo.\n",
        "* `severe_decelerations`: número de desacelerações agudas da FCF por segundo.\n",
        "* `prolongued_decelerations`: número de desacelerações prolongadas da FCF por segundo.\n",
        "* `abnormal_short_term_variability`: porcentagem do tempo em que ficou com uma [variabilidade](https://www.sciencedirect.com/topics/nursing-and-health-professions/cardiotocograph) da FCF anormal por curtos períodos.\n",
        "* `mean_value_of_short_term_variability`:\n",
        "* `percentage_of_time_with_abnormal_long_term_variability`: porcentagem do tempo em que ficou com uma [variabilidade](https://www.sciencedirect.com/topics/nursing-and-health-professions/cardiotocograph) da FCF anormal por longos períodos.\n",
        "* `mean_value_of_long_term_variability`:\n",
        "* `histogram_width`: intervalo dos valores medidos da FCF.\n",
        "* `histogram_min`: mínimo valor da FCF medida.\n",
        "* `histogram_max`: máximo valor da FCF medida.\n",
        "* `histogram_number_of_peaks`: número de picos do histograma da FCF.\n",
        "* `histogram_number_of_zeroes`: número de zeros do histograma da FCF.\n",
        "* `histogram_mode`: moda dos valores medidos da FCF.\n",
        "* `histogram_mean`: média dos valores medidos da FCF.\n",
        "* `histogram_median`: mediana dos valores medidos da FCF.\n",
        "* `histogram_variance`: variânca dos valores medidos da FCF.\n",
        "* `histogram_tendency`: tendência dos valores medidos da FCF.\n",
        "* `fetal_health`: Saúde do feto, classificado como: Normal (1), Suspeita (2) e Patológico (3).\n"
      ]
    },
    {
      "cell_type": "markdown",
      "metadata": {
        "id": "jgb4gtUF_lSW"
      },
      "source": [
        "# Análise Exploratória dos Dados\n",
        "\n",
        "texto texto"
      ]
    },
    {
      "cell_type": "code",
      "metadata": {
        "id": "50Ju_Z5Y_t6b"
      },
      "source": [
        "#importando os módulos padrão que serão usados no projeto\n",
        "import pandas as pd\n",
        "import matplotlib.pyplot as plt\n",
        "%matplotlib inline\n",
        "import numpy as np"
      ],
      "execution_count": 1,
      "outputs": []
    },
    {
      "cell_type": "markdown",
      "metadata": {
        "id": "5MWTdtbtAifF"
      },
      "source": [
        "falar que deixou no git para facilitar"
      ]
    },
    {
      "cell_type": "code",
      "metadata": {
        "colab": {
          "base_uri": "https://localhost:8080/",
          "height": 238
        },
        "id": "C-_AmwcaAcyC",
        "outputId": "21947516-34c8-4f6b-f0a7-309bd074c9ff"
      },
      "source": [
        "#endereco dos dados\n",
        "endereco = 'https://raw.githubusercontent.com/FerrazThales/Fetal_Health_Classification/main/fetal_health.csv'\n",
        "\n",
        "#lendo o csv com o pandas\n",
        "df = pd.read_csv(endereco)\n",
        "\n",
        "#mostrando as 5 primeiras entradas\n",
        "df.head()"
      ],
      "execution_count": 2,
      "outputs": [
        {
          "output_type": "execute_result",
          "data": {
            "text/html": [
              "<div>\n",
              "<style scoped>\n",
              "    .dataframe tbody tr th:only-of-type {\n",
              "        vertical-align: middle;\n",
              "    }\n",
              "\n",
              "    .dataframe tbody tr th {\n",
              "        vertical-align: top;\n",
              "    }\n",
              "\n",
              "    .dataframe thead th {\n",
              "        text-align: right;\n",
              "    }\n",
              "</style>\n",
              "<table border=\"1\" class=\"dataframe\">\n",
              "  <thead>\n",
              "    <tr style=\"text-align: right;\">\n",
              "      <th></th>\n",
              "      <th>baseline value</th>\n",
              "      <th>accelerations</th>\n",
              "      <th>fetal_movement</th>\n",
              "      <th>uterine_contractions</th>\n",
              "      <th>light_decelerations</th>\n",
              "      <th>severe_decelerations</th>\n",
              "      <th>prolongued_decelerations</th>\n",
              "      <th>abnormal_short_term_variability</th>\n",
              "      <th>mean_value_of_short_term_variability</th>\n",
              "      <th>percentage_of_time_with_abnormal_long_term_variability</th>\n",
              "      <th>mean_value_of_long_term_variability</th>\n",
              "      <th>histogram_width</th>\n",
              "      <th>histogram_min</th>\n",
              "      <th>histogram_max</th>\n",
              "      <th>histogram_number_of_peaks</th>\n",
              "      <th>histogram_number_of_zeroes</th>\n",
              "      <th>histogram_mode</th>\n",
              "      <th>histogram_mean</th>\n",
              "      <th>histogram_median</th>\n",
              "      <th>histogram_variance</th>\n",
              "      <th>histogram_tendency</th>\n",
              "      <th>fetal_health</th>\n",
              "    </tr>\n",
              "  </thead>\n",
              "  <tbody>\n",
              "    <tr>\n",
              "      <th>0</th>\n",
              "      <td>120.0</td>\n",
              "      <td>0.000</td>\n",
              "      <td>0.0</td>\n",
              "      <td>0.000</td>\n",
              "      <td>0.000</td>\n",
              "      <td>0.0</td>\n",
              "      <td>0.0</td>\n",
              "      <td>73.0</td>\n",
              "      <td>0.5</td>\n",
              "      <td>43.0</td>\n",
              "      <td>2.4</td>\n",
              "      <td>64.0</td>\n",
              "      <td>62.0</td>\n",
              "      <td>126.0</td>\n",
              "      <td>2.0</td>\n",
              "      <td>0.0</td>\n",
              "      <td>120.0</td>\n",
              "      <td>137.0</td>\n",
              "      <td>121.0</td>\n",
              "      <td>73.0</td>\n",
              "      <td>1.0</td>\n",
              "      <td>2.0</td>\n",
              "    </tr>\n",
              "    <tr>\n",
              "      <th>1</th>\n",
              "      <td>132.0</td>\n",
              "      <td>0.006</td>\n",
              "      <td>0.0</td>\n",
              "      <td>0.006</td>\n",
              "      <td>0.003</td>\n",
              "      <td>0.0</td>\n",
              "      <td>0.0</td>\n",
              "      <td>17.0</td>\n",
              "      <td>2.1</td>\n",
              "      <td>0.0</td>\n",
              "      <td>10.4</td>\n",
              "      <td>130.0</td>\n",
              "      <td>68.0</td>\n",
              "      <td>198.0</td>\n",
              "      <td>6.0</td>\n",
              "      <td>1.0</td>\n",
              "      <td>141.0</td>\n",
              "      <td>136.0</td>\n",
              "      <td>140.0</td>\n",
              "      <td>12.0</td>\n",
              "      <td>0.0</td>\n",
              "      <td>1.0</td>\n",
              "    </tr>\n",
              "    <tr>\n",
              "      <th>2</th>\n",
              "      <td>133.0</td>\n",
              "      <td>0.003</td>\n",
              "      <td>0.0</td>\n",
              "      <td>0.008</td>\n",
              "      <td>0.003</td>\n",
              "      <td>0.0</td>\n",
              "      <td>0.0</td>\n",
              "      <td>16.0</td>\n",
              "      <td>2.1</td>\n",
              "      <td>0.0</td>\n",
              "      <td>13.4</td>\n",
              "      <td>130.0</td>\n",
              "      <td>68.0</td>\n",
              "      <td>198.0</td>\n",
              "      <td>5.0</td>\n",
              "      <td>1.0</td>\n",
              "      <td>141.0</td>\n",
              "      <td>135.0</td>\n",
              "      <td>138.0</td>\n",
              "      <td>13.0</td>\n",
              "      <td>0.0</td>\n",
              "      <td>1.0</td>\n",
              "    </tr>\n",
              "    <tr>\n",
              "      <th>3</th>\n",
              "      <td>134.0</td>\n",
              "      <td>0.003</td>\n",
              "      <td>0.0</td>\n",
              "      <td>0.008</td>\n",
              "      <td>0.003</td>\n",
              "      <td>0.0</td>\n",
              "      <td>0.0</td>\n",
              "      <td>16.0</td>\n",
              "      <td>2.4</td>\n",
              "      <td>0.0</td>\n",
              "      <td>23.0</td>\n",
              "      <td>117.0</td>\n",
              "      <td>53.0</td>\n",
              "      <td>170.0</td>\n",
              "      <td>11.0</td>\n",
              "      <td>0.0</td>\n",
              "      <td>137.0</td>\n",
              "      <td>134.0</td>\n",
              "      <td>137.0</td>\n",
              "      <td>13.0</td>\n",
              "      <td>1.0</td>\n",
              "      <td>1.0</td>\n",
              "    </tr>\n",
              "    <tr>\n",
              "      <th>4</th>\n",
              "      <td>132.0</td>\n",
              "      <td>0.007</td>\n",
              "      <td>0.0</td>\n",
              "      <td>0.008</td>\n",
              "      <td>0.000</td>\n",
              "      <td>0.0</td>\n",
              "      <td>0.0</td>\n",
              "      <td>16.0</td>\n",
              "      <td>2.4</td>\n",
              "      <td>0.0</td>\n",
              "      <td>19.9</td>\n",
              "      <td>117.0</td>\n",
              "      <td>53.0</td>\n",
              "      <td>170.0</td>\n",
              "      <td>9.0</td>\n",
              "      <td>0.0</td>\n",
              "      <td>137.0</td>\n",
              "      <td>136.0</td>\n",
              "      <td>138.0</td>\n",
              "      <td>11.0</td>\n",
              "      <td>1.0</td>\n",
              "      <td>1.0</td>\n",
              "    </tr>\n",
              "  </tbody>\n",
              "</table>\n",
              "</div>"
            ],
            "text/plain": [
              "   baseline value  accelerations  ...  histogram_tendency  fetal_health\n",
              "0           120.0          0.000  ...                 1.0           2.0\n",
              "1           132.0          0.006  ...                 0.0           1.0\n",
              "2           133.0          0.003  ...                 0.0           1.0\n",
              "3           134.0          0.003  ...                 1.0           1.0\n",
              "4           132.0          0.007  ...                 1.0           1.0\n",
              "\n",
              "[5 rows x 22 columns]"
            ]
          },
          "metadata": {},
          "execution_count": 2
        }
      ]
    },
    {
      "cell_type": "code",
      "metadata": {
        "colab": {
          "base_uri": "https://localhost:8080/"
        },
        "id": "sy7t70nZ9gvU",
        "outputId": "9f612dcb-88d9-4078-a70e-966cf972979f"
      },
      "source": [
        "#Visualizando o nome de todas as colunas do dataset\n",
        "df.columns"
      ],
      "execution_count": 3,
      "outputs": [
        {
          "output_type": "execute_result",
          "data": {
            "text/plain": [
              "Index(['baseline value', 'accelerations', 'fetal_movement',\n",
              "       'uterine_contractions', 'light_decelerations', 'severe_decelerations',\n",
              "       'prolongued_decelerations', 'abnormal_short_term_variability',\n",
              "       'mean_value_of_short_term_variability',\n",
              "       'percentage_of_time_with_abnormal_long_term_variability',\n",
              "       'mean_value_of_long_term_variability', 'histogram_width',\n",
              "       'histogram_min', 'histogram_max', 'histogram_number_of_peaks',\n",
              "       'histogram_number_of_zeroes', 'histogram_mode', 'histogram_mean',\n",
              "       'histogram_median', 'histogram_variance', 'histogram_tendency',\n",
              "       'fetal_health'],\n",
              "      dtype='object')"
            ]
          },
          "metadata": {},
          "execution_count": 3
        }
      ]
    },
    {
      "cell_type": "code",
      "metadata": {
        "colab": {
          "base_uri": "https://localhost:8080/"
        },
        "id": "adEe5VpyAunC",
        "outputId": "2279fc4a-e57f-4fc1-bbee-8902cdf1afac"
      },
      "source": [
        "#Avaliando a quantidade de todos os valores da base de dados\n",
        "print('Esta base de dados contém:')\n",
        "print('{:,} entradas'.format(df.shape[0]).replace(',','.'))\n",
        "print('{} variáveis'.format(df.shape[1]))"
      ],
      "execution_count": 4,
      "outputs": [
        {
          "output_type": "stream",
          "name": "stdout",
          "text": [
            "Esta base de dados contém:\n",
            "2.126 entradas\n",
            "22 variáveis\n"
          ]
        }
      ]
    },
    {
      "cell_type": "markdown",
      "metadata": {
        "id": "LiryICVuCRxG"
      },
      "source": [
        "tipo de dados, explicar o que é float**64**"
      ]
    },
    {
      "cell_type": "code",
      "metadata": {
        "colab": {
          "base_uri": "https://localhost:8080/",
          "height": 723
        },
        "id": "EjRRYEECBm1h",
        "outputId": "587ca946-6bd4-4272-cef4-e9c3b26c9b74"
      },
      "source": [
        "#Criando uma tabela dos tipos de dados\n",
        "pd.DataFrame(df.dtypes,columns=['Tipo de Dados'])"
      ],
      "execution_count": 5,
      "outputs": [
        {
          "output_type": "execute_result",
          "data": {
            "text/html": [
              "<div>\n",
              "<style scoped>\n",
              "    .dataframe tbody tr th:only-of-type {\n",
              "        vertical-align: middle;\n",
              "    }\n",
              "\n",
              "    .dataframe tbody tr th {\n",
              "        vertical-align: top;\n",
              "    }\n",
              "\n",
              "    .dataframe thead th {\n",
              "        text-align: right;\n",
              "    }\n",
              "</style>\n",
              "<table border=\"1\" class=\"dataframe\">\n",
              "  <thead>\n",
              "    <tr style=\"text-align: right;\">\n",
              "      <th></th>\n",
              "      <th>Tipo de Dados</th>\n",
              "    </tr>\n",
              "  </thead>\n",
              "  <tbody>\n",
              "    <tr>\n",
              "      <th>baseline value</th>\n",
              "      <td>float64</td>\n",
              "    </tr>\n",
              "    <tr>\n",
              "      <th>accelerations</th>\n",
              "      <td>float64</td>\n",
              "    </tr>\n",
              "    <tr>\n",
              "      <th>fetal_movement</th>\n",
              "      <td>float64</td>\n",
              "    </tr>\n",
              "    <tr>\n",
              "      <th>uterine_contractions</th>\n",
              "      <td>float64</td>\n",
              "    </tr>\n",
              "    <tr>\n",
              "      <th>light_decelerations</th>\n",
              "      <td>float64</td>\n",
              "    </tr>\n",
              "    <tr>\n",
              "      <th>severe_decelerations</th>\n",
              "      <td>float64</td>\n",
              "    </tr>\n",
              "    <tr>\n",
              "      <th>prolongued_decelerations</th>\n",
              "      <td>float64</td>\n",
              "    </tr>\n",
              "    <tr>\n",
              "      <th>abnormal_short_term_variability</th>\n",
              "      <td>float64</td>\n",
              "    </tr>\n",
              "    <tr>\n",
              "      <th>mean_value_of_short_term_variability</th>\n",
              "      <td>float64</td>\n",
              "    </tr>\n",
              "    <tr>\n",
              "      <th>percentage_of_time_with_abnormal_long_term_variability</th>\n",
              "      <td>float64</td>\n",
              "    </tr>\n",
              "    <tr>\n",
              "      <th>mean_value_of_long_term_variability</th>\n",
              "      <td>float64</td>\n",
              "    </tr>\n",
              "    <tr>\n",
              "      <th>histogram_width</th>\n",
              "      <td>float64</td>\n",
              "    </tr>\n",
              "    <tr>\n",
              "      <th>histogram_min</th>\n",
              "      <td>float64</td>\n",
              "    </tr>\n",
              "    <tr>\n",
              "      <th>histogram_max</th>\n",
              "      <td>float64</td>\n",
              "    </tr>\n",
              "    <tr>\n",
              "      <th>histogram_number_of_peaks</th>\n",
              "      <td>float64</td>\n",
              "    </tr>\n",
              "    <tr>\n",
              "      <th>histogram_number_of_zeroes</th>\n",
              "      <td>float64</td>\n",
              "    </tr>\n",
              "    <tr>\n",
              "      <th>histogram_mode</th>\n",
              "      <td>float64</td>\n",
              "    </tr>\n",
              "    <tr>\n",
              "      <th>histogram_mean</th>\n",
              "      <td>float64</td>\n",
              "    </tr>\n",
              "    <tr>\n",
              "      <th>histogram_median</th>\n",
              "      <td>float64</td>\n",
              "    </tr>\n",
              "    <tr>\n",
              "      <th>histogram_variance</th>\n",
              "      <td>float64</td>\n",
              "    </tr>\n",
              "    <tr>\n",
              "      <th>histogram_tendency</th>\n",
              "      <td>float64</td>\n",
              "    </tr>\n",
              "    <tr>\n",
              "      <th>fetal_health</th>\n",
              "      <td>float64</td>\n",
              "    </tr>\n",
              "  </tbody>\n",
              "</table>\n",
              "</div>"
            ],
            "text/plain": [
              "                                                   Tipo de Dados\n",
              "baseline value                                           float64\n",
              "accelerations                                            float64\n",
              "fetal_movement                                           float64\n",
              "uterine_contractions                                     float64\n",
              "light_decelerations                                      float64\n",
              "severe_decelerations                                     float64\n",
              "prolongued_decelerations                                 float64\n",
              "abnormal_short_term_variability                          float64\n",
              "mean_value_of_short_term_variability                     float64\n",
              "percentage_of_time_with_abnormal_long_term_vari...       float64\n",
              "mean_value_of_long_term_variability                      float64\n",
              "histogram_width                                          float64\n",
              "histogram_min                                            float64\n",
              "histogram_max                                            float64\n",
              "histogram_number_of_peaks                                float64\n",
              "histogram_number_of_zeroes                               float64\n",
              "histogram_mode                                           float64\n",
              "histogram_mean                                           float64\n",
              "histogram_median                                         float64\n",
              "histogram_variance                                       float64\n",
              "histogram_tendency                                       float64\n",
              "fetal_health                                             float64"
            ]
          },
          "metadata": {},
          "execution_count": 5
        }
      ]
    },
    {
      "cell_type": "markdown",
      "metadata": {
        "id": "GOu4EZIfCeRy"
      },
      "source": [
        "dados vazios"
      ]
    },
    {
      "cell_type": "code",
      "metadata": {
        "colab": {
          "base_uri": "https://localhost:8080/",
          "height": 723
        },
        "id": "GHaV__Y7CTEa",
        "outputId": "8f76e32c-ceea-4b21-def7-532919682849"
      },
      "source": [
        "#Criando uma tabela dos valores vazios\n",
        "pd.DataFrame(df.isnull().sum(),columns=['Quantidade de Valores Vazios'])"
      ],
      "execution_count": 6,
      "outputs": [
        {
          "output_type": "execute_result",
          "data": {
            "text/html": [
              "<div>\n",
              "<style scoped>\n",
              "    .dataframe tbody tr th:only-of-type {\n",
              "        vertical-align: middle;\n",
              "    }\n",
              "\n",
              "    .dataframe tbody tr th {\n",
              "        vertical-align: top;\n",
              "    }\n",
              "\n",
              "    .dataframe thead th {\n",
              "        text-align: right;\n",
              "    }\n",
              "</style>\n",
              "<table border=\"1\" class=\"dataframe\">\n",
              "  <thead>\n",
              "    <tr style=\"text-align: right;\">\n",
              "      <th></th>\n",
              "      <th>Quantidade de Valores Vazios</th>\n",
              "    </tr>\n",
              "  </thead>\n",
              "  <tbody>\n",
              "    <tr>\n",
              "      <th>baseline value</th>\n",
              "      <td>0</td>\n",
              "    </tr>\n",
              "    <tr>\n",
              "      <th>accelerations</th>\n",
              "      <td>0</td>\n",
              "    </tr>\n",
              "    <tr>\n",
              "      <th>fetal_movement</th>\n",
              "      <td>0</td>\n",
              "    </tr>\n",
              "    <tr>\n",
              "      <th>uterine_contractions</th>\n",
              "      <td>0</td>\n",
              "    </tr>\n",
              "    <tr>\n",
              "      <th>light_decelerations</th>\n",
              "      <td>0</td>\n",
              "    </tr>\n",
              "    <tr>\n",
              "      <th>severe_decelerations</th>\n",
              "      <td>0</td>\n",
              "    </tr>\n",
              "    <tr>\n",
              "      <th>prolongued_decelerations</th>\n",
              "      <td>0</td>\n",
              "    </tr>\n",
              "    <tr>\n",
              "      <th>abnormal_short_term_variability</th>\n",
              "      <td>0</td>\n",
              "    </tr>\n",
              "    <tr>\n",
              "      <th>mean_value_of_short_term_variability</th>\n",
              "      <td>0</td>\n",
              "    </tr>\n",
              "    <tr>\n",
              "      <th>percentage_of_time_with_abnormal_long_term_variability</th>\n",
              "      <td>0</td>\n",
              "    </tr>\n",
              "    <tr>\n",
              "      <th>mean_value_of_long_term_variability</th>\n",
              "      <td>0</td>\n",
              "    </tr>\n",
              "    <tr>\n",
              "      <th>histogram_width</th>\n",
              "      <td>0</td>\n",
              "    </tr>\n",
              "    <tr>\n",
              "      <th>histogram_min</th>\n",
              "      <td>0</td>\n",
              "    </tr>\n",
              "    <tr>\n",
              "      <th>histogram_max</th>\n",
              "      <td>0</td>\n",
              "    </tr>\n",
              "    <tr>\n",
              "      <th>histogram_number_of_peaks</th>\n",
              "      <td>0</td>\n",
              "    </tr>\n",
              "    <tr>\n",
              "      <th>histogram_number_of_zeroes</th>\n",
              "      <td>0</td>\n",
              "    </tr>\n",
              "    <tr>\n",
              "      <th>histogram_mode</th>\n",
              "      <td>0</td>\n",
              "    </tr>\n",
              "    <tr>\n",
              "      <th>histogram_mean</th>\n",
              "      <td>0</td>\n",
              "    </tr>\n",
              "    <tr>\n",
              "      <th>histogram_median</th>\n",
              "      <td>0</td>\n",
              "    </tr>\n",
              "    <tr>\n",
              "      <th>histogram_variance</th>\n",
              "      <td>0</td>\n",
              "    </tr>\n",
              "    <tr>\n",
              "      <th>histogram_tendency</th>\n",
              "      <td>0</td>\n",
              "    </tr>\n",
              "    <tr>\n",
              "      <th>fetal_health</th>\n",
              "      <td>0</td>\n",
              "    </tr>\n",
              "  </tbody>\n",
              "</table>\n",
              "</div>"
            ],
            "text/plain": [
              "                                                    Quantidade de Valores Vazios\n",
              "baseline value                                                                 0\n",
              "accelerations                                                                  0\n",
              "fetal_movement                                                                 0\n",
              "uterine_contractions                                                           0\n",
              "light_decelerations                                                            0\n",
              "severe_decelerations                                                           0\n",
              "prolongued_decelerations                                                       0\n",
              "abnormal_short_term_variability                                                0\n",
              "mean_value_of_short_term_variability                                           0\n",
              "percentage_of_time_with_abnormal_long_term_vari...                             0\n",
              "mean_value_of_long_term_variability                                            0\n",
              "histogram_width                                                                0\n",
              "histogram_min                                                                  0\n",
              "histogram_max                                                                  0\n",
              "histogram_number_of_peaks                                                      0\n",
              "histogram_number_of_zeroes                                                     0\n",
              "histogram_mode                                                                 0\n",
              "histogram_mean                                                                 0\n",
              "histogram_median                                                               0\n",
              "histogram_variance                                                             0\n",
              "histogram_tendency                                                             0\n",
              "fetal_health                                                                   0"
            ]
          },
          "metadata": {},
          "execution_count": 6
        }
      ]
    },
    {
      "cell_type": "markdown",
      "metadata": {
        "id": "J44_G3-7DPo7"
      },
      "source": [
        "ver quais dados é necessário fazer os histogramas"
      ]
    },
    {
      "cell_type": "code",
      "metadata": {
        "colab": {
          "base_uri": "https://localhost:8080/",
          "height": 898
        },
        "id": "7s2WrRTRCgrC",
        "outputId": "c86e705e-225b-4228-ffc3-da0b3a1a7d7c"
      },
      "source": [
        "#Explorando como se comportam as frequências dos dados\n",
        "df[df.columns[:-1]].hist(figsize=(24,16));"
      ],
      "execution_count": 22,
      "outputs": [
        {
          "output_type": "display_data",
          "data": {
            "image/png": "[encoded data removed]",
            "text/plain": [
              "<Figure size 1728x1152 with 25 Axes>"
            ]
          },
          "metadata": {
            "needs_background": "light"
          }
        }
      ]
    },
    {
      "cell_type": "markdown",
      "metadata": {
        "id": "Y2LUhurYD-b-"
      },
      "source": [
        "vendo as estatísticas descritivas"
      ]
    },
    {
      "cell_type": "code",
      "metadata": {
        "colab": {
          "base_uri": "https://localhost:8080/",
          "height": 331
        },
        "id": "JdkC1X4uDET6",
        "outputId": "82c07c02-81b8-466e-dd8a-71cedb6ece37"
      },
      "source": [
        "#criando uma tabela com as estatísticas descritivas da base de dados\n",
        "df.describe().round(2)"
      ],
      "execution_count": null,
      "outputs": [
        {
          "output_type": "execute_result",
          "data": {
            "text/html": [
              "<div>\n",
              "<style scoped>\n",
              "    .dataframe tbody tr th:only-of-type {\n",
              "        vertical-align: middle;\n",
              "    }\n",
              "\n",
              "    .dataframe tbody tr th {\n",
              "        vertical-align: top;\n",
              "    }\n",
              "\n",
              "    .dataframe thead th {\n",
              "        text-align: right;\n",
              "    }\n",
              "</style>\n",
              "<table border=\"1\" class=\"dataframe\">\n",
              "  <thead>\n",
              "    <tr style=\"text-align: right;\">\n",
              "      <th></th>\n",
              "      <th>baseline value</th>\n",
              "      <th>accelerations</th>\n",
              "      <th>fetal_movement</th>\n",
              "      <th>uterine_contractions</th>\n",
              "      <th>light_decelerations</th>\n",
              "      <th>severe_decelerations</th>\n",
              "      <th>prolongued_decelerations</th>\n",
              "      <th>abnormal_short_term_variability</th>\n",
              "      <th>mean_value_of_short_term_variability</th>\n",
              "      <th>percentage_of_time_with_abnormal_long_term_variability</th>\n",
              "      <th>mean_value_of_long_term_variability</th>\n",
              "      <th>histogram_width</th>\n",
              "      <th>histogram_min</th>\n",
              "      <th>histogram_max</th>\n",
              "      <th>histogram_number_of_peaks</th>\n",
              "      <th>histogram_number_of_zeroes</th>\n",
              "      <th>histogram_mode</th>\n",
              "      <th>histogram_mean</th>\n",
              "      <th>histogram_median</th>\n",
              "      <th>histogram_variance</th>\n",
              "      <th>histogram_tendency</th>\n",
              "      <th>fetal_health</th>\n",
              "    </tr>\n",
              "  </thead>\n",
              "  <tbody>\n",
              "    <tr>\n",
              "      <th>count</th>\n",
              "      <td>2126.00</td>\n",
              "      <td>2126.00</td>\n",
              "      <td>2126.00</td>\n",
              "      <td>2126.00</td>\n",
              "      <td>2126.00</td>\n",
              "      <td>2126.0</td>\n",
              "      <td>2126.0</td>\n",
              "      <td>2126.00</td>\n",
              "      <td>2126.00</td>\n",
              "      <td>2126.00</td>\n",
              "      <td>2126.00</td>\n",
              "      <td>2126.00</td>\n",
              "      <td>2126.00</td>\n",
              "      <td>2126.00</td>\n",
              "      <td>2126.00</td>\n",
              "      <td>2126.00</td>\n",
              "      <td>2126.00</td>\n",
              "      <td>2126.00</td>\n",
              "      <td>2126.00</td>\n",
              "      <td>2126.00</td>\n",
              "      <td>2126.00</td>\n",
              "      <td>2126.00</td>\n",
              "    </tr>\n",
              "    <tr>\n",
              "      <th>mean</th>\n",
              "      <td>133.30</td>\n",
              "      <td>0.00</td>\n",
              "      <td>0.01</td>\n",
              "      <td>0.00</td>\n",
              "      <td>0.00</td>\n",
              "      <td>0.0</td>\n",
              "      <td>0.0</td>\n",
              "      <td>46.99</td>\n",
              "      <td>1.33</td>\n",
              "      <td>9.85</td>\n",
              "      <td>8.19</td>\n",
              "      <td>70.45</td>\n",
              "      <td>93.58</td>\n",
              "      <td>164.03</td>\n",
              "      <td>4.07</td>\n",
              "      <td>0.32</td>\n",
              "      <td>137.45</td>\n",
              "      <td>134.61</td>\n",
              "      <td>138.09</td>\n",
              "      <td>18.81</td>\n",
              "      <td>0.32</td>\n",
              "      <td>1.30</td>\n",
              "    </tr>\n",
              "    <tr>\n",
              "      <th>std</th>\n",
              "      <td>9.84</td>\n",
              "      <td>0.00</td>\n",
              "      <td>0.05</td>\n",
              "      <td>0.00</td>\n",
              "      <td>0.00</td>\n",
              "      <td>0.0</td>\n",
              "      <td>0.0</td>\n",
              "      <td>17.19</td>\n",
              "      <td>0.88</td>\n",
              "      <td>18.40</td>\n",
              "      <td>5.63</td>\n",
              "      <td>38.96</td>\n",
              "      <td>29.56</td>\n",
              "      <td>17.94</td>\n",
              "      <td>2.95</td>\n",
              "      <td>0.71</td>\n",
              "      <td>16.38</td>\n",
              "      <td>15.59</td>\n",
              "      <td>14.47</td>\n",
              "      <td>28.98</td>\n",
              "      <td>0.61</td>\n",
              "      <td>0.61</td>\n",
              "    </tr>\n",
              "    <tr>\n",
              "      <th>min</th>\n",
              "      <td>106.00</td>\n",
              "      <td>0.00</td>\n",
              "      <td>0.00</td>\n",
              "      <td>0.00</td>\n",
              "      <td>0.00</td>\n",
              "      <td>0.0</td>\n",
              "      <td>0.0</td>\n",
              "      <td>12.00</td>\n",
              "      <td>0.20</td>\n",
              "      <td>0.00</td>\n",
              "      <td>0.00</td>\n",
              "      <td>3.00</td>\n",
              "      <td>50.00</td>\n",
              "      <td>122.00</td>\n",
              "      <td>0.00</td>\n",
              "      <td>0.00</td>\n",
              "      <td>60.00</td>\n",
              "      <td>73.00</td>\n",
              "      <td>77.00</td>\n",
              "      <td>0.00</td>\n",
              "      <td>-1.00</td>\n",
              "      <td>1.00</td>\n",
              "    </tr>\n",
              "    <tr>\n",
              "      <th>25%</th>\n",
              "      <td>126.00</td>\n",
              "      <td>0.00</td>\n",
              "      <td>0.00</td>\n",
              "      <td>0.00</td>\n",
              "      <td>0.00</td>\n",
              "      <td>0.0</td>\n",
              "      <td>0.0</td>\n",
              "      <td>32.00</td>\n",
              "      <td>0.70</td>\n",
              "      <td>0.00</td>\n",
              "      <td>4.60</td>\n",
              "      <td>37.00</td>\n",
              "      <td>67.00</td>\n",
              "      <td>152.00</td>\n",
              "      <td>2.00</td>\n",
              "      <td>0.00</td>\n",
              "      <td>129.00</td>\n",
              "      <td>125.00</td>\n",
              "      <td>129.00</td>\n",
              "      <td>2.00</td>\n",
              "      <td>0.00</td>\n",
              "      <td>1.00</td>\n",
              "    </tr>\n",
              "    <tr>\n",
              "      <th>50%</th>\n",
              "      <td>133.00</td>\n",
              "      <td>0.00</td>\n",
              "      <td>0.00</td>\n",
              "      <td>0.00</td>\n",
              "      <td>0.00</td>\n",
              "      <td>0.0</td>\n",
              "      <td>0.0</td>\n",
              "      <td>49.00</td>\n",
              "      <td>1.20</td>\n",
              "      <td>0.00</td>\n",
              "      <td>7.40</td>\n",
              "      <td>67.50</td>\n",
              "      <td>93.00</td>\n",
              "      <td>162.00</td>\n",
              "      <td>3.00</td>\n",
              "      <td>0.00</td>\n",
              "      <td>139.00</td>\n",
              "      <td>136.00</td>\n",
              "      <td>139.00</td>\n",
              "      <td>7.00</td>\n",
              "      <td>0.00</td>\n",
              "      <td>1.00</td>\n",
              "    </tr>\n",
              "    <tr>\n",
              "      <th>75%</th>\n",
              "      <td>140.00</td>\n",
              "      <td>0.01</td>\n",
              "      <td>0.00</td>\n",
              "      <td>0.01</td>\n",
              "      <td>0.00</td>\n",
              "      <td>0.0</td>\n",
              "      <td>0.0</td>\n",
              "      <td>61.00</td>\n",
              "      <td>1.70</td>\n",
              "      <td>11.00</td>\n",
              "      <td>10.80</td>\n",
              "      <td>100.00</td>\n",
              "      <td>120.00</td>\n",
              "      <td>174.00</td>\n",
              "      <td>6.00</td>\n",
              "      <td>0.00</td>\n",
              "      <td>148.00</td>\n",
              "      <td>145.00</td>\n",
              "      <td>148.00</td>\n",
              "      <td>24.00</td>\n",
              "      <td>1.00</td>\n",
              "      <td>1.00</td>\n",
              "    </tr>\n",
              "    <tr>\n",
              "      <th>max</th>\n",
              "      <td>160.00</td>\n",
              "      <td>0.02</td>\n",
              "      <td>0.48</td>\n",
              "      <td>0.02</td>\n",
              "      <td>0.02</td>\n",
              "      <td>0.0</td>\n",
              "      <td>0.0</td>\n",
              "      <td>87.00</td>\n",
              "      <td>7.00</td>\n",
              "      <td>91.00</td>\n",
              "      <td>50.70</td>\n",
              "      <td>180.00</td>\n",
              "      <td>159.00</td>\n",
              "      <td>238.00</td>\n",
              "      <td>18.00</td>\n",
              "      <td>10.00</td>\n",
              "      <td>187.00</td>\n",
              "      <td>182.00</td>\n",
              "      <td>186.00</td>\n",
              "      <td>269.00</td>\n",
              "      <td>1.00</td>\n",
              "      <td>3.00</td>\n",
              "    </tr>\n",
              "  </tbody>\n",
              "</table>\n",
              "</div>"
            ],
            "text/plain": [
              "       baseline value  accelerations  ...  histogram_tendency  fetal_health\n",
              "count         2126.00        2126.00  ...             2126.00       2126.00\n",
              "mean           133.30           0.00  ...                0.32          1.30\n",
              "std              9.84           0.00  ...                0.61          0.61\n",
              "min            106.00           0.00  ...               -1.00          1.00\n",
              "25%            126.00           0.00  ...                0.00          1.00\n",
              "50%            133.00           0.00  ...                0.00          1.00\n",
              "75%            140.00           0.01  ...                1.00          1.00\n",
              "max            160.00           0.02  ...                1.00          3.00\n",
              "\n",
              "[8 rows x 22 columns]"
            ]
          },
          "metadata": {},
          "execution_count": 42
        }
      ]
    },
    {
      "cell_type": "markdown",
      "metadata": {
        "id": "--4kE2Lkovvj"
      },
      "source": [
        "falar de correlação"
      ]
    },
    {
      "cell_type": "code",
      "metadata": {
        "id": "Km0sJWuYEEoi"
      },
      "source": [
        "#criando a matriz de correlacao\n",
        "matriz_de_correlacao = df.corr()"
      ],
      "execution_count": null,
      "outputs": []
    },
    {
      "cell_type": "markdown",
      "metadata": {
        "id": "gbE_LL3TzY8x"
      },
      "source": [
        "vendo as classificações - quantidade de pessoas, colocar porcentagens"
      ]
    },
    {
      "cell_type": "code",
      "metadata": {
        "id": "TfkIpPMQ0aMw"
      },
      "source": [
        "#função para fazer o rótulo de dados"
      ],
      "execution_count": null,
      "outputs": []
    },
    {
      "cell_type": "code",
      "metadata": {
        "colab": {
          "base_uri": "https://localhost:8080/",
          "height": 441
        },
        "id": "mgubcbTzzcK-",
        "outputId": "be58432a-5859-4d20-c178-5b6e541b31e5"
      },
      "source": [
        "#criando o fig e o ax no matplotlib\n",
        "fig, ax = plt.subplots(figsize=(8,6))\n",
        "\n",
        "#criando o gráfico de barras\n",
        "df.fetal_health.value_counts().plot.bar(ax=ax,color='#281E5D',alpha=0.8)\n",
        "ax.set_frame_on(False)\n",
        "\n",
        "#plotando o gráfico\n",
        "plt.tight_layout();"
      ],
      "execution_count": null,
      "outputs": [
        {
          "output_type": "display_data",
          "data": {
            "image/png": "[encoded data removed]",
            "text/plain": [
              "<Figure size 576x432 with 1 Axes>"
            ]
          },
          "metadata": {
            "needs_background": "light"
          }
        }
      ]
    },
    {
      "cell_type": "markdown",
      "metadata": {
        "id": "GGT9rQ0OLPq1"
      },
      "source": [
        "#Conclusões\n",
        "* isso\n",
        "* aquilo\n",
        "* etc"
      ]
    },
    {
      "cell_type": "markdown",
      "metadata": {
        "id": "2w-Egk2rLNhJ"
      },
      "source": [
        "#Colocar no github"
      ]
    },
    {
      "cell_type": "markdown",
      "metadata": {
        "id": "o83ZGsEQKhtR"
      },
      "source": [
        "color no github\n",
        "<table><tr>\n",
        "<td>\n",
        "<a href=\"https://thalesferraz.medium.com/\">\n",
        "<img align=\"left\" src=\"https://github.com/FerrazThales/FerrazThales/blob/main/logo_gif.gif?raw=true\" title=\"Olá, Meu nome é Thales e sou cientista de Dados!\">\n",
        "</a>\n",
        "</td>\n",
        "<td>\n",
        "<a href=\"https://github.com/FerrazThales\">\n",
        "<img hspace=10 vspace=90 width=\"12%\" align=\"left\" src=\"https://image.flaticon.com/icons/png/512/1051/1051326.png\" title=\"Entre em meu Github e veja mais projetos!\">\n",
        "</a>\n",
        "</td>\n",
        "<td>\n",
        "<a href=\"\">\n",
        "<img hspace=10 vspace=70 width=\"26%\" align=\"left\" src=\"https://download.logo.wine/logo/Medium_(website)/Medium_(website)-Logo.wine.png\" title=\"Veja este meu projeto no Medium!\">\n",
        "</a>\n",
        "</td>\n",
        "<td>\n",
        "<a href=\"https://www.linkedin.com/in/thalesdefreitasferraz/\">\n",
        "<img align=\"center\" src=\"https://image.flaticon.com/icons/png/512/889/889122.png\" title=\"Vamos trocar uma idéia sobre Data Science no LinkedIn?\">\n",
        "</a>\n",
        "</td>\n",
        "</tr></table>"
      ]
    }
  ]
}